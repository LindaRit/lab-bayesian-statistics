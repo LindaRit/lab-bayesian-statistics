{
 "cells": [
  {
   "cell_type": "markdown",
   "metadata": {},
   "source": [
    "# Intro to Bayesian Statistics Lab\n",
    "\n",
    "Complete the following set of exercises to solidify your knowledge of Bayesian statistics and Bayesian data analysis."
   ]
  },
  {
   "cell_type": "code",
   "execution_count": 1,
   "metadata": {},
   "outputs": [],
   "source": [
    "import pandas as pd\n",
    "import numpy as np\n",
    "import matplotlib.pyplot as plt"
   ]
  },
  {
   "cell_type": "markdown",
   "metadata": {},
   "source": [
    "## 1. Cookie Problem\n",
    "\n",
    "Suppose we have two bowls of cookies. Bowl 1 contains 30 vanilla cookies and 10 chocolate cookies. Bowl 2 contains 20 of each. You randomly pick one cookie out of one of the bowls, and it is vanilla. Use Bayes Theorem to calculate the probability that the vanilla cookie you picked came from Bowl 1?"
   ]
  },
  {
   "cell_type": "code",
   "execution_count": 19,
   "metadata": {},
   "outputs": [
    {
     "data": {
      "text/plain": [
       "0.6"
      ]
     },
     "execution_count": 19,
     "metadata": {},
     "output_type": "execute_result"
    }
   ],
   "source": [
    "\"\"\"\"\n",
    "bowl 1 = 30 v (0.75) and 10 c (0.25)\n",
    "bowl 2 = 20 v (0.50) and 20 c (0.50)\n",
    "P(V)= 50/80\n",
    "P(C)=30/80\n",
    "\n",
    "P(B1|V) = P(B1)*P(V) / P(V)\n",
    "\"\"\"\n",
    "0.5*0.75/ (5/8)\n"
   ]
  },
  {
   "cell_type": "code",
   "execution_count": 37,
   "metadata": {},
   "outputs": [],
   "source": [
    "import numpy as np\n",
    "\n",
    "def bayes_rule(priors, likelihoods):\n",
    "    marg = sum(np.multiply(priors, likelihoods))\n",
    "    post = np.divide(np.multiply(priors, likelihoods), marg)\n",
    "    return post\n"
   ]
  },
  {
   "cell_type": "code",
   "execution_count": 40,
   "metadata": {},
   "outputs": [
    {
     "data": {
      "text/plain": [
       "array([0.6, 0.4])"
      ]
     },
     "execution_count": 40,
     "metadata": {},
     "output_type": "execute_result"
    }
   ],
   "source": [
    "priors = [1/2, 1/2]\n",
    "likelihoods = [0.75, 0.5]\n",
    "data = bayes_rule(priors, likelihoods)\n",
    "data"
   ]
  },
  {
   "cell_type": "markdown",
   "metadata": {},
   "source": [
    "What is the probability that it came from Bowl 2?"
   ]
  },
  {
   "cell_type": "code",
   "execution_count": 23,
   "metadata": {},
   "outputs": [
    {
     "data": {
      "text/plain": [
       "0.4"
      ]
     },
     "execution_count": 23,
     "metadata": {},
     "output_type": "execute_result"
    }
   ],
   "source": [
    "\"\"\"\"\n",
    "bowl 1 = 30 v (0.75) and 10 c (0.25)\n",
    "bowl 2 = 20 v (0.50) and 20 c (0.50)\n",
    "P(V)= 50/80\n",
    "P(C)=30/80\n",
    "\n",
    "P(B2|V) = P(B2)*P(V) / P(V)\n",
    "\"\"\"\n",
    "0.5*0.5/ (5/8)\n"
   ]
  },
  {
   "cell_type": "markdown",
   "metadata": {},
   "source": [
    "What if the cookie you had picked was chocolate? What are the probabilities that the chocolate cookie came from Bowl 1 and Bowl 2 respectively?"
   ]
  },
  {
   "cell_type": "code",
   "execution_count": 25,
   "metadata": {},
   "outputs": [
    {
     "data": {
      "text/plain": [
       "0.3333333333333333"
      ]
     },
     "execution_count": 25,
     "metadata": {},
     "output_type": "execute_result"
    }
   ],
   "source": [
    "\"\"\"\"\n",
    "bowl 1 = 30 v (0.75) and 10 c (0.25)\n",
    "bowl 2 = 20 v (0.50) and 20 c (0.50)\n",
    "P(V)= 50/80\n",
    "P(C)=30/80\n",
    "\n",
    "P(B1|C) = P(B1)*P(C) / P(C)\n",
    "\"\"\"\n",
    "0.5*0.25/ (3/8)\n",
    "\n"
   ]
  },
  {
   "cell_type": "code",
   "execution_count": 26,
   "metadata": {},
   "outputs": [
    {
     "data": {
      "text/plain": [
       "0.6666666666666666"
      ]
     },
     "execution_count": 26,
     "metadata": {},
     "output_type": "execute_result"
    }
   ],
   "source": [
    "\"\"\"\"\n",
    "bowl 1 = 30 v (0.75) and 10 c (0.25)\n",
    "bowl 2 = 20 v (0.50) and 20 c (0.50)\n",
    "P(V)= 50/80\n",
    "P(C)=30/80\n",
    "\n",
    "P(B2|C) = P(B2)*P(C) / P(C)\n",
    "\"\"\"\n",
    "0.5*0.5/ (3/8)"
   ]
  },
  {
   "cell_type": "markdown",
   "metadata": {},
   "source": [
    "## 2. Candy Problem\n",
    "\n",
    "Suppose you have two bags of candies:\n",
    "\n",
    "- In Bag 1, the mix of colors is:\n",
    "    - Brown - 30%\n",
    "    - Yellow - 20%\n",
    "    - Red - 20%\n",
    "    - Green - 10%\n",
    "    - Orange - 10%\n",
    "    - Tan - 10%\n",
    "    \n",
    "- In Bag 2, the mix of colors is:\n",
    "    - Blue - 24%\n",
    "    - Green - 20%\n",
    "    - Orange - 16%\n",
    "    - Yellow - 14%\n",
    "    - Red - 13%\n",
    "    - Brown - 13%\n",
    "    \n",
    "Not knowing which bag is which, you randomly draw one candy from each bag. One is yellow and one is green. What is the probability that the yellow one came from the Bag 1?\n",
    "\n",
    "*Hint: For the likelihoods, you will need to multiply the probabilities of drawing yellow from one bag and green from the other bag and vice versa.*"
   ]
  },
  {
   "cell_type": "code",
   "execution_count": 55,
   "metadata": {},
   "outputs": [
    {
     "name": "stdout",
     "output_type": "stream",
     "text": [
      "The probability to get a yellow one from bag 1 is:  0.7407407407407408\n"
     ]
    }
   ],
   "source": [
    "\"\"\"\n",
    "bag 1 = 0.5\n",
    "bag 2 = 0.5\n",
    "Y = (0.14+0.2)/2\n",
    "Y1 = 0.2\n",
    "G1 = 0.2\n",
    "\n",
    "\n",
    "\"\"\"\n",
    "\n",
    "priors = [1/2, 1/2]\n",
    "likelihoods = [0.2*0.2, 0.1*0.14]\n",
    "data = bayes_rule(priors, likelihoods)\n",
    "print(\"The probability to get a yellow one from bag 1 is: \", data[0])"
   ]
  },
  {
   "cell_type": "code",
   "execution_count": null,
   "metadata": {},
   "outputs": [],
   "source": []
  },
  {
   "cell_type": "markdown",
   "metadata": {},
   "source": [
    "What is the probability that the yellow candy came from Bag 2?"
   ]
  },
  {
   "cell_type": "code",
   "execution_count": 52,
   "metadata": {},
   "outputs": [
    {
     "name": "stdout",
     "output_type": "stream",
     "text": [
      "The probability to get a yellow one from bag 2 is:  0.25925925925925924\n"
     ]
    }
   ],
   "source": [
    "\"\"\"\n",
    "bag 1 = 0.5\n",
    "bag 2 = 0.5\n",
    "Y2 = 0.14\n",
    "\n",
    "\"\"\"\n",
    "priors = [1/2, 1/2]\n",
    "likelihoods = [0.2*0.2, 0.1*0.14]\n",
    "data = bayes_rule(priors, likelihoods)\n",
    "print(\"The probability to get a yellow one from bag 2 is: \", data[1])"
   ]
  },
  {
   "cell_type": "markdown",
   "metadata": {},
   "source": [
    "What are the probabilities that the green one came from Bag 1 and Bag 2 respectively?"
   ]
  },
  {
   "cell_type": "code",
   "execution_count": 57,
   "metadata": {},
   "outputs": [
    {
     "name": "stdout",
     "output_type": "stream",
     "text": [
      "The probability to get a green one from bag 1 is:  0.25925925925925924\n"
     ]
    }
   ],
   "source": [
    "\"\"\"\n",
    "bag 1 = 0.5\n",
    "bag 2 = 0.5\n",
    "G1 = 0.1\n",
    "For bag 1:\n",
    "\"\"\"\n",
    "priors = [1/2, 1/2]\n",
    "likelihoods = [0.2*0.2, 0.1*0.14]\n",
    "data = bayes_rule(priors, likelihoods)\n",
    "print(\"The probability to get a green one from bag 1 is: \", data[1])"
   ]
  },
  {
   "cell_type": "code",
   "execution_count": 50,
   "metadata": {},
   "outputs": [
    {
     "name": "stdout",
     "output_type": "stream",
     "text": [
      "The probability to get a green one from bag 2 is:  0.7407407407407408\n"
     ]
    }
   ],
   "source": [
    "\"\"\"\n",
    "bag 1 = 0.5\n",
    "bag 2 = 0.5\n",
    "G1 = 0.1\n",
    "For bag 2:\n",
    "\"\"\"\n",
    "priors = [1/2, 1/2]\n",
    "likelihoods = [0.2*0.2, 0.1*0.14]\n",
    "data = bayes_rule(priors, likelihoods)\n",
    "print(\"The probability to get a green one from bag 2 is: \", data[0])"
   ]
  },
  {
   "cell_type": "markdown",
   "metadata": {},
   "source": [
    "## 3. Monty Hall Problem\n",
    "\n",
    "Suppose you are a contestant on the popular game show *Let's Make a Deal*. The host of the show (Monty Hall) presents you with three doors - Door A, Door B, and Door C. He tells you that there is a sports car behind one of them and if you choose the correct one, you win the car!\n",
    "\n",
    "You select Door A, but then Monty makes things a little more interesting. He opens Door B to reveal that there is no sports car behind it and asks you if you would like to stick with your choice of Door A or switch your choice to Door C. Given this new information, what are the probabilities of you winning the car if you stick with Door A versus if you switch to Door C?"
   ]
  },
  {
   "cell_type": "code",
   "execution_count": 18,
   "metadata": {},
   "outputs": [
    {
     "data": {
      "text/plain": [
       "'\\nI choose door c because the probability changed to 66,67% that the car is behind the door c\\n\\nThe choice between Door a,b,c is 1/3.\\nP(A)=P(B)=P(C)= 1/3\\n\\nAfter choosing A, he opened door B:\\nP(B|A) = P(B|C) = 1\\nP(B|B) = 0\\n\\nP(C|B) = (P(B|C)*P(C)) / (P(B|A)*P(A) + (P(B|C)*P(C)+(P(B|B)*P(B)) = 1/3  / (1/3 + 1/3) = 1/2 \\nP(C|B) + P(C) = 2/3\\n\\nthat means that C has for sure a probability of 0.5 that the car is behind the door + the 16.67%\\nchance from the very beginning.\\n\\nThe car is with a probability of 66.67% behind door C.\\n'"
      ]
     },
     "execution_count": 18,
     "metadata": {},
     "output_type": "execute_result"
    }
   ],
   "source": [
    "\"\"\"\n",
    "I choose door c because the probability changed to 66,67% that the car is behind the door c\n",
    "\n",
    "The choice between Door a,b,c is 1/3.\n",
    "P(A)=P(B)=P(C)= 1/3\n",
    "\n",
    "After choosing A, he opened door B:\n",
    "P(B|A) = P(B|C) = 1\n",
    "P(B|B) = 0\n",
    "\n",
    "P(C|B) = (P(B|C)*P(C)) / (P(B|A)*P(A) + (P(B|C)*P(C)+(P(B|B)*P(B)) = 1/3  / (1/3 + 1/3) = 1/2 \n",
    "P(C|B) + P(C) = 2/3\n",
    "\n",
    "that means that C has for sure a probability of 0.5 that the car is behind the door + the 16.67%\n",
    "chance from the very beginning.\n",
    "\n",
    "The car is with a probability of 66.67% behind door C.\n",
    "\"\"\""
   ]
  },
  {
   "cell_type": "code",
   "execution_count": null,
   "metadata": {},
   "outputs": [],
   "source": []
  }
 ],
 "metadata": {
  "kernelspec": {
   "display_name": "Python 3",
   "language": "python",
   "name": "python3"
  },
  "language_info": {
   "codemirror_mode": {
    "name": "ipython",
    "version": 3
   },
   "file_extension": ".py",
   "mimetype": "text/x-python",
   "name": "python",
   "nbconvert_exporter": "python",
   "pygments_lexer": "ipython3",
   "version": "3.7.3"
  }
 },
 "nbformat": 4,
 "nbformat_minor": 2
}
